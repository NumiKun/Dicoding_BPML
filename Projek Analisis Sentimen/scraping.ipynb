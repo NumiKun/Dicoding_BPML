{
 "cells": [
  {
   "cell_type": "markdown",
   "metadata": {},
   "source": [
    "### Import Libraries"
   ]
  },
  {
   "cell_type": "code",
   "execution_count": null,
   "metadata": {},
   "outputs": [],
   "source": [
    "from google_play_scraper import reviews_all, Sort"
   ]
  },
  {
   "cell_type": "markdown",
   "metadata": {},
   "source": [
    "### Scraping Data"
   ]
  },
  {
   "cell_type": "code",
   "execution_count": 3,
   "metadata": {},
   "outputs": [
    {
     "name": "stdout",
     "output_type": "stream",
     "text": [
      "Total reviews scraped: 99000\n"
     ]
    }
   ],
   "source": [
    "# Scraping ulasan aplikasi LinkedIn di Play Store\n",
    "scrapreview = reviews_all(\n",
    "    'com.linkedin.android',  # ID aplikasi LinkedIn\n",
    "    lang='en',               # Bahasa ulasan (English)\n",
    "    country='us',            # Negara (United States)\n",
    "    sort=Sort.MOST_RELEVANT, # Urutan ulasan\n",
    "    count=30000              # Jumlah maksimum ulasan\n",
    ")\n",
    "\n",
    "# Menampilkan jumlah ulasan yang berhasil diambil\n",
    "print(f\"Total reviews scraped: {len(scrapreview)}\")"
   ]
  },
  {
   "cell_type": "markdown",
   "metadata": {},
   "source": [
    "### Save Hasil Scraping"
   ]
  },
  {
   "cell_type": "code",
   "execution_count": null,
   "metadata": {},
   "outputs": [],
   "source": [
    "# Membagi data menjadi dua bagian\n",
    "df_scraping = df_reviews.iloc[:90000]  # 90.000 data pertama\n",
    "\n",
    "# Menyimpan data ke file CSV\n",
    "df_scraping.to_csv('hasil_scraping.csv', index=False, encoding='utf-8')"
   ]
  }
 ],
 "metadata": {
  "kernelspec": {
   "display_name": "Python 3",
   "language": "python",
   "name": "python3"
  },
  "language_info": {
   "codemirror_mode": {
    "name": "ipython",
    "version": 3
   },
   "file_extension": ".py",
   "mimetype": "text/x-python",
   "name": "python",
   "nbconvert_exporter": "python",
   "pygments_lexer": "ipython3",
   "version": "3.10.7"
  }
 },
 "nbformat": 4,
 "nbformat_minor": 2
}
