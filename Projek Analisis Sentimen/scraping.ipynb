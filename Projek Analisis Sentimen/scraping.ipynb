{
 "cells": [
  {
   "cell_type": "markdown",
   "metadata": {},
   "source": [
    "### Import Libraries"
   ]
  },
  {
   "cell_type": "code",
   "execution_count": 4,
   "metadata": {},
   "outputs": [],
   "source": [
    "from google_play_scraper import reviews_all, Sort\n",
    "import pandas as pd"
   ]
  },
  {
   "cell_type": "markdown",
   "metadata": {},
   "source": [
    "### Scraping Data"
   ]
  },
  {
   "cell_type": "code",
   "execution_count": null,
   "metadata": {},
   "outputs": [
    {
     "name": "stdout",
     "output_type": "stream",
     "text": [
      "Total reviews scraped: 33176\n"
     ]
    }
   ],
   "source": [
    "# Scraping ulasan aplikasi LinkedIn di Play Store\n",
    "scrapreview = reviews_all(\n",
    "    'com.linkedin.android',  # ID aplikasi LinkedIn\n",
    "    lang='id',               # Bahasa ulasan (English)\n",
    "    country='id',            # Negara (United States)\n",
    "    sort=Sort.MOST_RELEVANT, # Urutan ulasan\n",
    "    count=90000              # Jumlah maksimum ulasan\n",
    ")\n",
    "\n",
    "print(f\"Total reviews scraped: {len(scrapreview)}\")"
   ]
  },
  {
   "cell_type": "markdown",
   "metadata": {},
   "source": [
    "### Save Hasil Scraping"
   ]
  },
  {
   "cell_type": "code",
   "execution_count": null,
   "metadata": {},
   "outputs": [],
   "source": [
    "df_reviews = pd.DataFrame(scrapreview)\n",
    "\n",
    "df_reviews.to_csv('hasil_scraping.csv', index=False)"
   ]
  }
 ],
 "metadata": {
  "kernelspec": {
   "display_name": "Python 3",
   "language": "python",
   "name": "python3"
  },
  "language_info": {
   "codemirror_mode": {
    "name": "ipython",
    "version": 3
   },
   "file_extension": ".py",
   "mimetype": "text/x-python",
   "name": "python",
   "nbconvert_exporter": "python",
   "pygments_lexer": "ipython3",
   "version": "3.10.7"
  }
 },
 "nbformat": 4,
 "nbformat_minor": 2
}
