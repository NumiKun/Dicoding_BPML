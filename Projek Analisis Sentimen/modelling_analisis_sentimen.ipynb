{
 "cells": [
  {
   "cell_type": "markdown",
   "metadata": {},
   "source": [
    "### Import Libraries"
   ]
  },
  {
   "cell_type": "code",
   "execution_count": 2,
   "metadata": {},
   "outputs": [],
   "source": [
    "import pandas as pd"
   ]
  },
  {
   "cell_type": "markdown",
   "metadata": {},
   "source": [
    "### Load Dataset"
   ]
  },
  {
   "cell_type": "code",
   "execution_count": null,
   "metadata": {},
   "outputs": [
    {
     "data": {
      "text/html": [
       "<div>\n",
       "<style scoped>\n",
       "    .dataframe tbody tr th:only-of-type {\n",
       "        vertical-align: middle;\n",
       "    }\n",
       "\n",
       "    .dataframe tbody tr th {\n",
       "        vertical-align: top;\n",
       "    }\n",
       "\n",
       "    .dataframe thead th {\n",
       "        text-align: right;\n",
       "    }\n",
       "</style>\n",
       "<table border=\"1\" class=\"dataframe\">\n",
       "  <thead>\n",
       "    <tr style=\"text-align: right;\">\n",
       "      <th></th>\n",
       "      <th>reviewId</th>\n",
       "      <th>userName</th>\n",
       "      <th>userImage</th>\n",
       "      <th>content</th>\n",
       "      <th>score</th>\n",
       "      <th>thumbsUpCount</th>\n",
       "      <th>reviewCreatedVersion</th>\n",
       "      <th>at</th>\n",
       "      <th>replyContent</th>\n",
       "      <th>repliedAt</th>\n",
       "      <th>appVersion</th>\n",
       "    </tr>\n",
       "  </thead>\n",
       "  <tbody>\n",
       "    <tr>\n",
       "      <th>0</th>\n",
       "      <td>be6c0b77-7c2c-45aa-99be-ecf34ded00d0</td>\n",
       "      <td>A Google user</td>\n",
       "      <td>https://play-lh.googleusercontent.com/EGemoI2N...</td>\n",
       "      <td>Lots of problems. If you use a template and cu...</td>\n",
       "      <td>1</td>\n",
       "      <td>4216</td>\n",
       "      <td>4.1.1007.2</td>\n",
       "      <td>2024-11-24 19:47:40</td>\n",
       "      <td>Hey! We are sorry for the experience you have ...</td>\n",
       "      <td>2024-11-24 12:27:44</td>\n",
       "      <td>4.1.1007.2</td>\n",
       "    </tr>\n",
       "    <tr>\n",
       "      <th>1</th>\n",
       "      <td>f64d3b75-3d94-491f-9b66-22a3079d488e</td>\n",
       "      <td>A Google user</td>\n",
       "      <td>https://play-lh.googleusercontent.com/EGemoI2N...</td>\n",
       "      <td>LinkedIn has been a game-changer for my career...</td>\n",
       "      <td>5</td>\n",
       "      <td>1</td>\n",
       "      <td>4.1.1052</td>\n",
       "      <td>2025-04-02 10:38:56</td>\n",
       "      <td>NaN</td>\n",
       "      <td>NaN</td>\n",
       "      <td>4.1.1052</td>\n",
       "    </tr>\n",
       "    <tr>\n",
       "      <th>2</th>\n",
       "      <td>6514bc74-a84c-491e-ad33-a9b5dccddded</td>\n",
       "      <td>A Google user</td>\n",
       "      <td>https://play-lh.googleusercontent.com/EGemoI2N...</td>\n",
       "      <td>LinkedIn's strength lies in its vast network, ...</td>\n",
       "      <td>5</td>\n",
       "      <td>31</td>\n",
       "      <td>4.1.1050</td>\n",
       "      <td>2025-03-31 23:38:25</td>\n",
       "      <td>NaN</td>\n",
       "      <td>NaN</td>\n",
       "      <td>4.1.1050</td>\n",
       "    </tr>\n",
       "    <tr>\n",
       "      <th>3</th>\n",
       "      <td>234d2b20-2f9d-45bc-acd6-1113a59e1677</td>\n",
       "      <td>A Google user</td>\n",
       "      <td>https://play-lh.googleusercontent.com/EGemoI2N...</td>\n",
       "      <td>For the past few months I haven't been able to...</td>\n",
       "      <td>1</td>\n",
       "      <td>455</td>\n",
       "      <td>4.1.1048.1</td>\n",
       "      <td>2025-03-24 20:24:29</td>\n",
       "      <td>NaN</td>\n",
       "      <td>NaN</td>\n",
       "      <td>4.1.1048.1</td>\n",
       "    </tr>\n",
       "    <tr>\n",
       "      <th>4</th>\n",
       "      <td>c6f53ce1-ec57-49ae-b8dc-01a45c88302d</td>\n",
       "      <td>A Google user</td>\n",
       "      <td>https://play-lh.googleusercontent.com/EGemoI2N...</td>\n",
       "      <td>I am having major problems with resetting my p...</td>\n",
       "      <td>1</td>\n",
       "      <td>54</td>\n",
       "      <td>4.1.1045.1</td>\n",
       "      <td>2025-03-18 01:00:22</td>\n",
       "      <td>NaN</td>\n",
       "      <td>NaN</td>\n",
       "      <td>4.1.1045.1</td>\n",
       "    </tr>\n",
       "  </tbody>\n",
       "</table>\n",
       "</div>"
      ],
      "text/plain": [
       "                               reviewId       userName  \\\n",
       "0  be6c0b77-7c2c-45aa-99be-ecf34ded00d0  A Google user   \n",
       "1  f64d3b75-3d94-491f-9b66-22a3079d488e  A Google user   \n",
       "2  6514bc74-a84c-491e-ad33-a9b5dccddded  A Google user   \n",
       "3  234d2b20-2f9d-45bc-acd6-1113a59e1677  A Google user   \n",
       "4  c6f53ce1-ec57-49ae-b8dc-01a45c88302d  A Google user   \n",
       "\n",
       "                                           userImage  \\\n",
       "0  https://play-lh.googleusercontent.com/EGemoI2N...   \n",
       "1  https://play-lh.googleusercontent.com/EGemoI2N...   \n",
       "2  https://play-lh.googleusercontent.com/EGemoI2N...   \n",
       "3  https://play-lh.googleusercontent.com/EGemoI2N...   \n",
       "4  https://play-lh.googleusercontent.com/EGemoI2N...   \n",
       "\n",
       "                                             content  score  thumbsUpCount  \\\n",
       "0  Lots of problems. If you use a template and cu...      1           4216   \n",
       "1  LinkedIn has been a game-changer for my career...      5              1   \n",
       "2  LinkedIn's strength lies in its vast network, ...      5             31   \n",
       "3  For the past few months I haven't been able to...      1            455   \n",
       "4  I am having major problems with resetting my p...      1             54   \n",
       "\n",
       "  reviewCreatedVersion                   at  \\\n",
       "0           4.1.1007.2  2024-11-24 19:47:40   \n",
       "1             4.1.1052  2025-04-02 10:38:56   \n",
       "2             4.1.1050  2025-03-31 23:38:25   \n",
       "3           4.1.1048.1  2025-03-24 20:24:29   \n",
       "4           4.1.1045.1  2025-03-18 01:00:22   \n",
       "\n",
       "                                        replyContent            repliedAt  \\\n",
       "0  Hey! We are sorry for the experience you have ...  2024-11-24 12:27:44   \n",
       "1                                                NaN                  NaN   \n",
       "2                                                NaN                  NaN   \n",
       "3                                                NaN                  NaN   \n",
       "4                                                NaN                  NaN   \n",
       "\n",
       "   appVersion  \n",
       "0  4.1.1007.2  \n",
       "1    4.1.1052  \n",
       "2    4.1.1050  \n",
       "3  4.1.1048.1  \n",
       "4  4.1.1045.1  "
      ]
     },
     "execution_count": 1,
     "metadata": {},
     "output_type": "execute_result"
    }
   ],
   "source": [
    "dataset = pd.read_csv('hasil_scraping.csv')\n",
    "dataset.head()"
   ]
  },
  {
   "cell_type": "code",
   "execution_count": 3,
   "metadata": {},
   "outputs": [
    {
     "name": "stdout",
     "output_type": "stream",
     "text": [
      "<class 'pandas.core.frame.DataFrame'>\n",
      "RangeIndex: 90000 entries, 0 to 89999\n",
      "Data columns (total 11 columns):\n",
      " #   Column                Non-Null Count  Dtype \n",
      "---  ------                --------------  ----- \n",
      " 0   reviewId              90000 non-null  object\n",
      " 1   userName              90000 non-null  object\n",
      " 2   userImage             90000 non-null  object\n",
      " 3   content               89998 non-null  object\n",
      " 4   score                 90000 non-null  int64 \n",
      " 5   thumbsUpCount         90000 non-null  int64 \n",
      " 6   reviewCreatedVersion  75376 non-null  object\n",
      " 7   at                    90000 non-null  object\n",
      " 8   replyContent          34162 non-null  object\n",
      " 9   repliedAt             34162 non-null  object\n",
      " 10  appVersion            75376 non-null  object\n",
      "dtypes: int64(2), object(9)\n",
      "memory usage: 7.6+ MB\n"
     ]
    }
   ],
   "source": [
    "dataset.info()"
   ]
  },
  {
   "cell_type": "markdown",
   "metadata": {},
   "source": [
    "### Cleaning Dataset"
   ]
  },
  {
   "cell_type": "code",
   "execution_count": 4,
   "metadata": {},
   "outputs": [],
   "source": [
    "clean_dataset = dataset.dropna()"
   ]
  },
  {
   "cell_type": "code",
   "execution_count": 6,
   "metadata": {},
   "outputs": [],
   "source": [
    "clean_dataset = clean_dataset.drop_duplicates()"
   ]
  },
  {
   "cell_type": "code",
   "execution_count": 7,
   "metadata": {},
   "outputs": [
    {
     "name": "stdout",
     "output_type": "stream",
     "text": [
      "<class 'pandas.core.frame.DataFrame'>\n",
      "Index: 28513 entries, 0 to 89994\n",
      "Data columns (total 11 columns):\n",
      " #   Column                Non-Null Count  Dtype \n",
      "---  ------                --------------  ----- \n",
      " 0   reviewId              28513 non-null  object\n",
      " 1   userName              28513 non-null  object\n",
      " 2   userImage             28513 non-null  object\n",
      " 3   content               28513 non-null  object\n",
      " 4   score                 28513 non-null  int64 \n",
      " 5   thumbsUpCount         28513 non-null  int64 \n",
      " 6   reviewCreatedVersion  28513 non-null  object\n",
      " 7   at                    28513 non-null  object\n",
      " 8   replyContent          28513 non-null  object\n",
      " 9   repliedAt             28513 non-null  object\n",
      " 10  appVersion            28513 non-null  object\n",
      "dtypes: int64(2), object(9)\n",
      "memory usage: 2.6+ MB\n"
     ]
    }
   ],
   "source": [
    "clean_dataset.info()"
   ]
  }
 ],
 "metadata": {
  "kernelspec": {
   "display_name": "Python 3",
   "language": "python",
   "name": "python3"
  },
  "language_info": {
   "codemirror_mode": {
    "name": "ipython",
    "version": 3
   },
   "file_extension": ".py",
   "mimetype": "text/x-python",
   "name": "python",
   "nbconvert_exporter": "python",
   "pygments_lexer": "ipython3",
   "version": "3.10.7"
  }
 },
 "nbformat": 4,
 "nbformat_minor": 2
}
