{
 "cells": [
  {
   "cell_type": "markdown",
   "metadata": {},
   "source": [
    "### Import Libraries"
   ]
  },
  {
   "cell_type": "code",
   "execution_count": 14,
   "metadata": {},
   "outputs": [],
   "source": [
    "import pandas as pd\n",
    "import re\n",
    "import string\n",
    "from nltk.tokenize import word_tokenize\n",
    "from nltk.corpus import stopwords\n",
    "from Sastrawi.Stemmer.StemmerFactory import StemmerFactory"
   ]
  },
  {
   "cell_type": "markdown",
   "metadata": {},
   "source": [
    "### Load Dataset"
   ]
  },
  {
   "cell_type": "code",
   "execution_count": 2,
   "metadata": {},
   "outputs": [
    {
     "data": {
      "text/html": [
       "<div>\n",
       "<style scoped>\n",
       "    .dataframe tbody tr th:only-of-type {\n",
       "        vertical-align: middle;\n",
       "    }\n",
       "\n",
       "    .dataframe tbody tr th {\n",
       "        vertical-align: top;\n",
       "    }\n",
       "\n",
       "    .dataframe thead th {\n",
       "        text-align: right;\n",
       "    }\n",
       "</style>\n",
       "<table border=\"1\" class=\"dataframe\">\n",
       "  <thead>\n",
       "    <tr style=\"text-align: right;\">\n",
       "      <th></th>\n",
       "      <th>reviewId</th>\n",
       "      <th>userName</th>\n",
       "      <th>userImage</th>\n",
       "      <th>content</th>\n",
       "      <th>score</th>\n",
       "      <th>thumbsUpCount</th>\n",
       "      <th>reviewCreatedVersion</th>\n",
       "      <th>at</th>\n",
       "      <th>replyContent</th>\n",
       "      <th>repliedAt</th>\n",
       "      <th>appVersion</th>\n",
       "    </tr>\n",
       "  </thead>\n",
       "  <tbody>\n",
       "    <tr>\n",
       "      <th>0</th>\n",
       "      <td>806f0c6e-77ff-45dd-b9b9-4db0d338aa5d</td>\n",
       "      <td>Pengguna Google</td>\n",
       "      <td>https://play-lh.googleusercontent.com/EGemoI2N...</td>\n",
       "      <td>asli GK jelas, mau login malah kyk di oper ope...</td>\n",
       "      <td>2</td>\n",
       "      <td>8</td>\n",
       "      <td>4.1.1052</td>\n",
       "      <td>2025-04-03 08:28:39</td>\n",
       "      <td>NaN</td>\n",
       "      <td>NaN</td>\n",
       "      <td>4.1.1052</td>\n",
       "    </tr>\n",
       "    <tr>\n",
       "      <th>1</th>\n",
       "      <td>5b3f8ca3-1dee-438e-bc61-2d9019d5382d</td>\n",
       "      <td>Pengguna Google</td>\n",
       "      <td>https://play-lh.googleusercontent.com/EGemoI2N...</td>\n",
       "      <td>Mau login selalu stuck di Verifikasi cepat, lo...</td>\n",
       "      <td>1</td>\n",
       "      <td>5</td>\n",
       "      <td>4.1.1033.1</td>\n",
       "      <td>2025-02-09 22:29:38</td>\n",
       "      <td>NaN</td>\n",
       "      <td>NaN</td>\n",
       "      <td>4.1.1033.1</td>\n",
       "    </tr>\n",
       "    <tr>\n",
       "      <th>2</th>\n",
       "      <td>3e817104-84e5-4fd5-ba23-587e38fd1533</td>\n",
       "      <td>Pengguna Google</td>\n",
       "      <td>https://play-lh.googleusercontent.com/EGemoI2N...</td>\n",
       "      <td>Tolong kenapa susah benget ya login saya pengg...</td>\n",
       "      <td>1</td>\n",
       "      <td>672</td>\n",
       "      <td>4.1.1033.1</td>\n",
       "      <td>2025-02-10 21:02:26</td>\n",
       "      <td>NaN</td>\n",
       "      <td>NaN</td>\n",
       "      <td>4.1.1033.1</td>\n",
       "    </tr>\n",
       "    <tr>\n",
       "      <th>3</th>\n",
       "      <td>da1a2e1c-657b-4834-a494-7d5707ed4df5</td>\n",
       "      <td>Pengguna Google</td>\n",
       "      <td>https://play-lh.googleusercontent.com/EGemoI2N...</td>\n",
       "      <td>Beranda LinkedIn saya sudah bermasalah sejak 2...</td>\n",
       "      <td>2</td>\n",
       "      <td>27</td>\n",
       "      <td>4.1.1044</td>\n",
       "      <td>2025-03-14 06:50:15</td>\n",
       "      <td>NaN</td>\n",
       "      <td>NaN</td>\n",
       "      <td>4.1.1044</td>\n",
       "    </tr>\n",
       "    <tr>\n",
       "      <th>4</th>\n",
       "      <td>26e00b60-c0c2-47c4-94b3-26b438442aba</td>\n",
       "      <td>Pengguna Google</td>\n",
       "      <td>https://play-lh.googleusercontent.com/EGemoI2N...</td>\n",
       "      <td>Apa yang terjadi dengan linkedln saya, sudah l...</td>\n",
       "      <td>1</td>\n",
       "      <td>607</td>\n",
       "      <td>4.1.1023</td>\n",
       "      <td>2025-01-13 09:34:29</td>\n",
       "      <td>NaN</td>\n",
       "      <td>NaN</td>\n",
       "      <td>4.1.1023</td>\n",
       "    </tr>\n",
       "  </tbody>\n",
       "</table>\n",
       "</div>"
      ],
      "text/plain": [
       "                               reviewId         userName  \\\n",
       "0  806f0c6e-77ff-45dd-b9b9-4db0d338aa5d  Pengguna Google   \n",
       "1  5b3f8ca3-1dee-438e-bc61-2d9019d5382d  Pengguna Google   \n",
       "2  3e817104-84e5-4fd5-ba23-587e38fd1533  Pengguna Google   \n",
       "3  da1a2e1c-657b-4834-a494-7d5707ed4df5  Pengguna Google   \n",
       "4  26e00b60-c0c2-47c4-94b3-26b438442aba  Pengguna Google   \n",
       "\n",
       "                                           userImage  \\\n",
       "0  https://play-lh.googleusercontent.com/EGemoI2N...   \n",
       "1  https://play-lh.googleusercontent.com/EGemoI2N...   \n",
       "2  https://play-lh.googleusercontent.com/EGemoI2N...   \n",
       "3  https://play-lh.googleusercontent.com/EGemoI2N...   \n",
       "4  https://play-lh.googleusercontent.com/EGemoI2N...   \n",
       "\n",
       "                                             content  score  thumbsUpCount  \\\n",
       "0  asli GK jelas, mau login malah kyk di oper ope...      2              8   \n",
       "1  Mau login selalu stuck di Verifikasi cepat, lo...      1              5   \n",
       "2  Tolong kenapa susah benget ya login saya pengg...      1            672   \n",
       "3  Beranda LinkedIn saya sudah bermasalah sejak 2...      2             27   \n",
       "4  Apa yang terjadi dengan linkedln saya, sudah l...      1            607   \n",
       "\n",
       "  reviewCreatedVersion                   at replyContent repliedAt  appVersion  \n",
       "0             4.1.1052  2025-04-03 08:28:39          NaN       NaN    4.1.1052  \n",
       "1           4.1.1033.1  2025-02-09 22:29:38          NaN       NaN  4.1.1033.1  \n",
       "2           4.1.1033.1  2025-02-10 21:02:26          NaN       NaN  4.1.1033.1  \n",
       "3             4.1.1044  2025-03-14 06:50:15          NaN       NaN    4.1.1044  \n",
       "4             4.1.1023  2025-01-13 09:34:29          NaN       NaN    4.1.1023  "
      ]
     },
     "execution_count": 2,
     "metadata": {},
     "output_type": "execute_result"
    }
   ],
   "source": [
    "dataset = pd.read_csv('hasil_scraping.csv')\n",
    "dataset.head()"
   ]
  },
  {
   "cell_type": "code",
   "execution_count": 3,
   "metadata": {},
   "outputs": [
    {
     "name": "stdout",
     "output_type": "stream",
     "text": [
      "<class 'pandas.core.frame.DataFrame'>\n",
      "RangeIndex: 33176 entries, 0 to 33175\n",
      "Data columns (total 11 columns):\n",
      " #   Column                Non-Null Count  Dtype \n",
      "---  ------                --------------  ----- \n",
      " 0   reviewId              33176 non-null  object\n",
      " 1   userName              33176 non-null  object\n",
      " 2   userImage             33176 non-null  object\n",
      " 3   content               33135 non-null  object\n",
      " 4   score                 33176 non-null  int64 \n",
      " 5   thumbsUpCount         33176 non-null  int64 \n",
      " 6   reviewCreatedVersion  21995 non-null  object\n",
      " 7   at                    33176 non-null  object\n",
      " 8   replyContent          2938 non-null   object\n",
      " 9   repliedAt             2938 non-null   object\n",
      " 10  appVersion            21995 non-null  object\n",
      "dtypes: int64(2), object(9)\n",
      "memory usage: 2.8+ MB\n"
     ]
    }
   ],
   "source": [
    "dataset.info()"
   ]
  },
  {
   "cell_type": "markdown",
   "metadata": {},
   "source": [
    "### Cleaning Dataset"
   ]
  },
  {
   "cell_type": "markdown",
   "metadata": {},
   "source": [
    "#### Mengingat saya hanya menggunakan kolom content saja maka, saya hanya melakukan cleaning pada kolom content saja"
   ]
  },
  {
   "cell_type": "code",
   "execution_count": 4,
   "metadata": {},
   "outputs": [],
   "source": [
    "dataset = dataset.dropna(subset=['content'])"
   ]
  },
  {
   "cell_type": "code",
   "execution_count": 6,
   "metadata": {},
   "outputs": [],
   "source": [
    "dataset = dataset.drop_duplicates(subset=['content'], keep='first')"
   ]
  },
  {
   "cell_type": "code",
   "execution_count": 8,
   "metadata": {},
   "outputs": [
    {
     "name": "stdout",
     "output_type": "stream",
     "text": [
      "<class 'pandas.core.frame.DataFrame'>\n",
      "Index: 19471 entries, 0 to 33167\n",
      "Data columns (total 11 columns):\n",
      " #   Column                Non-Null Count  Dtype \n",
      "---  ------                --------------  ----- \n",
      " 0   reviewId              19471 non-null  object\n",
      " 1   userName              19471 non-null  object\n",
      " 2   userImage             19471 non-null  object\n",
      " 3   content               19471 non-null  object\n",
      " 4   score                 19471 non-null  int64 \n",
      " 5   thumbsUpCount         19471 non-null  int64 \n",
      " 6   reviewCreatedVersion  12962 non-null  object\n",
      " 7   at                    19471 non-null  object\n",
      " 8   replyContent          2069 non-null   object\n",
      " 9   repliedAt             2069 non-null   object\n",
      " 10  appVersion            12962 non-null  object\n",
      "dtypes: int64(2), object(9)\n",
      "memory usage: 1.8+ MB\n"
     ]
    }
   ],
   "source": [
    "dataset.info()"
   ]
  },
  {
   "cell_type": "markdown",
   "metadata": {},
   "source": [
    "### Preprocessing Text"
   ]
  },
  {
   "cell_type": "code",
   "execution_count": 9,
   "metadata": {},
   "outputs": [],
   "source": [
    "def cleaningText(text):\n",
    "    text = re.sub(r'@[A-Za-z0-9]+', '', text) # menghapus mention\n",
    "    text = re.sub(r'#[A-Za-z0-9]+', '', text) # menghapus hashtag\n",
    "    text = re.sub(r'RT[\\s]', '', text) # menghapus RT\n",
    "    text = re.sub(r\"http\\S+\", '', text) # menghapus link\n",
    "    text = re.sub(r'[0-9]+', '', text) # menghapus angka\n",
    "    text = re.sub(r'[^\\w\\s]', '', text) # menghapus karakter selain huruf dan angka\n",
    " \n",
    "    text = text.replace('\\n', ' ') # mengganti baris baru dengan spasi\n",
    "    text = text.translate(str.maketrans('', '', string.punctuation)) # menghapus semua tanda baca\n",
    "    text = text.strip(' ') # menghapus karakter spasi dari kiri dan kanan teks\n",
    "    return text"
   ]
  },
  {
   "cell_type": "code",
   "execution_count": 10,
   "metadata": {},
   "outputs": [],
   "source": [
    "# Mengubah semua karakter dalam teks menjadi huruf kecil\n",
    "def casefoldingText(text): \n",
    "    text = text.lower()\n",
    "    return text"
   ]
  },
  {
   "cell_type": "code",
   "execution_count": 11,
   "metadata": {},
   "outputs": [],
   "source": [
    "# Memecah atau membagi string, teks menjadi daftar token\n",
    "def tokenizingText(text): \n",
    "    text = word_tokenize(text)\n",
    "    return text"
   ]
  },
  {
   "cell_type": "code",
   "execution_count": 19,
   "metadata": {},
   "outputs": [],
   "source": [
    "def filteringText(text): # Menghapus stopwords dalam teks\n",
    "    listStopwords = set(stopwords.words('indonesian'))\n",
    "    listStopwords1 = set(stopwords.words('english'))\n",
    "    listStopwords.update(listStopwords1)\n",
    "    listStopwords.update(['iya','yaa','gak', 'gk','ngga', 'nya','na','sih','ku',\"di\",\"ga\",\"ya\",\"gaa\",\"loh\",\"kah\",\"woi\",\"woii\",\"woy\",\"tapi\"])\n",
    "    filtered = []\n",
    "    for txt in text:\n",
    "        if txt not in listStopwords:\n",
    "            filtered.append(txt)\n",
    "    text = filtered\n",
    "    return text"
   ]
  },
  {
   "cell_type": "code",
   "execution_count": 20,
   "metadata": {},
   "outputs": [],
   "source": [
    "def stemmingText(text): # Mengurangi kata ke bentuk dasarnya yang menghilangkan imbuhan awalan dan akhiran atau ke akar kata\n",
    "    # Membuat objek stemmer\n",
    "    factory = StemmerFactory()\n",
    "    stemmer = factory.create_stemmer()\n",
    " \n",
    "    # Memecah teks menjadi daftar kata\n",
    "    words = text.split()\n",
    " \n",
    "    # Menerapkan stemming pada setiap kata dalam daftar\n",
    "    stemmed_words = [stemmer.stem(word) for word in words]\n",
    " \n",
    "    # Menggabungkan kata-kata yang telah distem\n",
    "    stemmed_text = ' '.join(stemmed_words)\n",
    " \n",
    "    return stemmed_text"
   ]
  },
  {
   "cell_type": "code",
   "execution_count": 21,
   "metadata": {},
   "outputs": [],
   "source": [
    "def listToSentence(word_list):\n",
    "    sentence = ' '.join(word for word in word_list)\n",
    "    return sentence"
   ]
  },
  {
   "cell_type": "code",
   "execution_count": 22,
   "metadata": {},
   "outputs": [],
   "source": [
    "slangwords = {\n",
    "    \"apk\": \"aplikasi\",\n",
    "    \"@\": \"di\",\n",
    "    \"abis\": \"habis\",\n",
    "    \"masi\": \"masih\",\n",
    "    \"bgt\": \"banget\",\n",
    "    \"maks\": \"maksimal\"\n",
    "}\n",
    "\n",
    "def fix_slangwords(text):\n",
    "    words = text.split()\n",
    "    fixed_words = []\n",
    " \n",
    "    for word in words:\n",
    "        if word.lower() in slangwords:\n",
    "            fixed_words.append(slangwords[word.lower()])\n",
    "        else:\n",
    "            fixed_words.append(word)\n",
    " \n",
    "    fixed_text = ' '.join(fixed_words)\n",
    "    return fixed_text"
   ]
  },
  {
   "cell_type": "code",
   "execution_count": 25,
   "metadata": {},
   "outputs": [
    {
     "data": {
      "text/html": [
       "<div>\n",
       "<style scoped>\n",
       "    .dataframe tbody tr th:only-of-type {\n",
       "        vertical-align: middle;\n",
       "    }\n",
       "\n",
       "    .dataframe tbody tr th {\n",
       "        vertical-align: top;\n",
       "    }\n",
       "\n",
       "    .dataframe thead th {\n",
       "        text-align: right;\n",
       "    }\n",
       "</style>\n",
       "<table border=\"1\" class=\"dataframe\">\n",
       "  <thead>\n",
       "    <tr style=\"text-align: right;\">\n",
       "      <th></th>\n",
       "      <th>content</th>\n",
       "      <th>processed_content</th>\n",
       "    </tr>\n",
       "  </thead>\n",
       "  <tbody>\n",
       "    <tr>\n",
       "      <th>0</th>\n",
       "      <td>asli GK jelas, mau login malah kyk di oper ope...</td>\n",
       "      <td>asli login kyk oper oper gin pas mo login apkn...</td>\n",
       "    </tr>\n",
       "    <tr>\n",
       "      <th>1</th>\n",
       "      <td>Mau login selalu stuck di Verifikasi cepat, lo...</td>\n",
       "      <td>login stuck verifikasi cepat loading masuk cob...</td>\n",
       "    </tr>\n",
       "    <tr>\n",
       "      <th>2</th>\n",
       "      <td>Tolong kenapa susah benget ya login saya pengg...</td>\n",
       "      <td>tolong susah benget login guna login tibatiba ...</td>\n",
       "    </tr>\n",
       "    <tr>\n",
       "      <th>3</th>\n",
       "      <td>Beranda LinkedIn saya sudah bermasalah sejak 2...</td>\n",
       "      <td>beranda linkedin masalah mana beranda tampil i...</td>\n",
       "    </tr>\n",
       "    <tr>\n",
       "      <th>4</th>\n",
       "      <td>Apa yang terjadi dengan linkedln saya, sudah l...</td>\n",
       "      <td>linkedln masuklogin mode buffering terus tulis...</td>\n",
       "    </tr>\n",
       "  </tbody>\n",
       "</table>\n",
       "</div>"
      ],
      "text/plain": [
       "                                             content  \\\n",
       "0  asli GK jelas, mau login malah kyk di oper ope...   \n",
       "1  Mau login selalu stuck di Verifikasi cepat, lo...   \n",
       "2  Tolong kenapa susah benget ya login saya pengg...   \n",
       "3  Beranda LinkedIn saya sudah bermasalah sejak 2...   \n",
       "4  Apa yang terjadi dengan linkedln saya, sudah l...   \n",
       "\n",
       "                                   processed_content  \n",
       "0  asli login kyk oper oper gin pas mo login apkn...  \n",
       "1  login stuck verifikasi cepat loading masuk cob...  \n",
       "2  tolong susah benget login guna login tibatiba ...  \n",
       "3  beranda linkedin masalah mana beranda tampil i...  \n",
       "4  linkedln masuklogin mode buffering terus tulis...  "
      ]
     },
     "execution_count": 25,
     "metadata": {},
     "output_type": "execute_result"
    }
   ],
   "source": [
    "# Terapkan semua fungsi preprocessing ke kolom content\n",
    "dataset['processed_content'] = dataset['content'].apply(cleaningText)  # Cleaning text\n",
    "dataset['processed_content'] = dataset['processed_content'].apply(casefoldingText)  # Case folding\n",
    "dataset['processed_content'] = dataset['processed_content'].apply(tokenizingText)  # Tokenizing\n",
    "dataset['processed_content'] = dataset['processed_content'].apply(filteringText)  # Filtering\n",
    "dataset['processed_content'] = dataset['processed_content'].apply(listToSentence)  # Convert list to sentence\n",
    "dataset['processed_content'] = dataset['processed_content'].apply(stemmingText)  # Stemming\n",
    "dataset['processed_content'] = dataset['processed_content'].apply(fix_slangwords)  # Fix slang words\n",
    "\n",
    "# Tampilkan hasil\n",
    "dataset[['content', 'processed_content']].head()"
   ]
  },
  {
   "cell_type": "markdown",
   "metadata": {},
   "source": [
    "### Pelabelan"
   ]
  }
 ],
 "metadata": {
  "kernelspec": {
   "display_name": "Python 3",
   "language": "python",
   "name": "python3"
  },
  "language_info": {
   "codemirror_mode": {
    "name": "ipython",
    "version": 3
   },
   "file_extension": ".py",
   "mimetype": "text/x-python",
   "name": "python",
   "nbconvert_exporter": "python",
   "pygments_lexer": "ipython3",
   "version": "3.10.7"
  }
 },
 "nbformat": 4,
 "nbformat_minor": 2
}
