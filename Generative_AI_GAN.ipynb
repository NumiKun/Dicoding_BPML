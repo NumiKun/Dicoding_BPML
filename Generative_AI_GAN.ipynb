{
  "nbformat": 4,
  "nbformat_minor": 0,
  "metadata": {
    "colab": {
      "provenance": [],
      "gpuType": "T4",
      "authorship_tag": "ABX9TyNJlWzfszYjIXCmjxBDDaQv",
      "include_colab_link": true
    },
    "kernelspec": {
      "name": "python3",
      "display_name": "Python 3"
    },
    "language_info": {
      "name": "python"
    },
    "accelerator": "GPU"
  },
  "cells": [
    {
      "cell_type": "markdown",
      "metadata": {
        "id": "view-in-github",
        "colab_type": "text"
      },
      "source": [
        "<a href=\"https://colab.research.google.com/github/NumiKun/Dicoding_BPML/blob/main/Generative_AI_GAN.ipynb\" target=\"_parent\"><img src=\"https://colab.research.google.com/assets/colab-badge.svg\" alt=\"Open In Colab\"/></a>"
      ]
    },
    {
      "cell_type": "markdown",
      "source": [
        "### Import Libraries"
      ],
      "metadata": {
        "id": "dyuxq37nfVo7"
      }
    },
    {
      "cell_type": "code",
      "execution_count": 1,
      "metadata": {
        "id": "ixi4fSwwfPHK"
      },
      "outputs": [],
      "source": [
        "import torch\n",
        "import torch.nn as nn\n",
        "import torch.optim as optim\n",
        "from torchvision import datasets, transforms"
      ]
    },
    {
      "cell_type": "markdown",
      "source": [
        "### Menentukan Hyperparameter yang akan Digunakan"
      ],
      "metadata": {
        "id": "Flv1Nuz6fcyI"
      }
    },
    {
      "cell_type": "code",
      "source": [
        "latent_dim = 100\n",
        "hidden_dim = 256\n",
        "image_dim = 28 * 28\n",
        "batch_size = 64\n",
        "learning_rate = 0.0002\n",
        "num_epochs = 50"
      ],
      "metadata": {
        "id": "CB8ALC22fgv4"
      },
      "execution_count": 2,
      "outputs": []
    },
    {
      "cell_type": "markdown",
      "source": [
        "### Memuat Dataset MNIST"
      ],
      "metadata": {
        "id": "gVjc9bSwgbBU"
      }
    },
    {
      "cell_type": "code",
      "source": [
        "transform = transforms.Compose([transforms.ToTensor(), transforms.Normalize((0.5,), (0.5,))])\n",
        "train_dataset = datasets.MNIST(root='./data', train=True, transform=transform, download=True)\n",
        "train_loader = torch.utils.data.DataLoader(dataset=train_dataset, batch_size=batch_size, shuffle=True)"
      ],
      "metadata": {
        "colab": {
          "base_uri": "https://localhost:8080/"
        },
        "id": "huhFC8P6gdVO",
        "outputId": "e40a9324-0721-4c3f-8947-2b14dfb53911"
      },
      "execution_count": 3,
      "outputs": [
        {
          "output_type": "stream",
          "name": "stderr",
          "text": [
            "100%|██████████| 9.91M/9.91M [00:00<00:00, 17.9MB/s]\n",
            "100%|██████████| 28.9k/28.9k [00:00<00:00, 476kB/s]\n",
            "100%|██████████| 1.65M/1.65M [00:00<00:00, 4.45MB/s]\n",
            "100%|██████████| 4.54k/4.54k [00:00<00:00, 5.93MB/s]\n"
          ]
        }
      ]
    },
    {
      "cell_type": "markdown",
      "source": [
        "### Membuat Model GAN"
      ],
      "metadata": {
        "id": "7oaMHEcWgzNQ"
      }
    },
    {
      "cell_type": "markdown",
      "source": [
        "#### Membuat sebuah kelas bernama Generator yang bertugas untuk membuat gambar baru berdasarkan data noise yang sudah dipelajari"
      ],
      "metadata": {
        "id": "56LHKRBLg7x-"
      }
    },
    {
      "cell_type": "code",
      "source": [
        "class Generator(nn.Module):\n",
        "    def __init__(self):\n",
        "        super(Generator, self).__init__()\n",
        "        self.model = nn.Sequential(\n",
        "            nn.Linear(latent_dim, hidden_dim),\n",
        "            nn.ReLU(True),\n",
        "            nn.Linear(hidden_dim, hidden_dim),\n",
        "            nn.ReLU(True),\n",
        "            nn.Linear(hidden_dim, image_dim),\n",
        "            nn.Tanh()\n",
        "        )\n",
        "\n",
        "    def forward(self, z):\n",
        "        img = self.model(z)\n",
        "        img = img.view(img.size(0), 1, 28, 28)\n",
        "        return img"
      ],
      "metadata": {
        "id": "BLtuPpMgg1Ml"
      },
      "execution_count": 4,
      "outputs": []
    },
    {
      "cell_type": "markdown",
      "source": [
        "#### Membuat Kelas Discriminator yang bertanggung jawab untuk mengambil gambar sebagai input dan menghasilkan skor yang menunjukkan seberapa asli gambar tersebut."
      ],
      "metadata": {
        "id": "2B5Ediobhc10"
      }
    },
    {
      "cell_type": "code",
      "source": [
        "class Discriminator(nn.Module):\n",
        "    def __init__(self):\n",
        "        super(Discriminator, self).__init__()\n",
        "        self.model = nn.Sequential(\n",
        "            nn.Linear(image_dim, hidden_dim),\n",
        "            nn.LeakyReLU(0.2, inplace=True),\n",
        "            nn.Linear(hidden_dim, hidden_dim),\n",
        "            nn.LeakyReLU(0.2, inplace=True),\n",
        "            nn.Linear(hidden_dim, 1),\n",
        "            nn.Sigmoid()\n",
        "        )\n",
        "\n",
        "    def forward(self, img):\n",
        "        img_flat = img.view(img.size(0), -1)\n",
        "        validity = self.model(img_flat)\n",
        "        return validity"
      ],
      "metadata": {
        "id": "yo7JwyN5hXcB"
      },
      "execution_count": 5,
      "outputs": []
    },
    {
      "cell_type": "markdown",
      "source": [
        "### Melatih Model"
      ],
      "metadata": {
        "id": "Yvpp8iNthjE7"
      }
    },
    {
      "cell_type": "markdown",
      "source": [
        "#### Inisialisasi Kedua Kelas"
      ],
      "metadata": {
        "id": "HVaI-ovghnHY"
      }
    },
    {
      "cell_type": "code",
      "source": [
        "generator = Generator()\n",
        "discriminator = Discriminator()"
      ],
      "metadata": {
        "id": "6Ri8lDtzhkd6"
      },
      "execution_count": 6,
      "outputs": []
    },
    {
      "cell_type": "markdown",
      "source": [
        "#### Menentukan Optimizer dan Loss Function"
      ],
      "metadata": {
        "id": "iXTrVlkohpbc"
      }
    },
    {
      "cell_type": "code",
      "source": [
        "# Optimizers\n",
        "optimizer_G = optim.Adam(generator.parameters(), lr=learning_rate)\n",
        "optimizer_D = optim.Adam(discriminator.parameters(), lr=learning_rate)\n",
        "\n",
        "# Loss function\n",
        "adversarial_loss = nn.BCELoss()"
      ],
      "metadata": {
        "id": "2JNxVQMphs5K"
      },
      "execution_count": 7,
      "outputs": []
    },
    {
      "cell_type": "markdown",
      "source": [
        "#### Melatih Model"
      ],
      "metadata": {
        "id": "l_t529ZPhwMA"
      }
    },
    {
      "cell_type": "code",
      "source": [
        "for epoch in range(num_epochs):\n",
        "    for i, (imgs, _) in enumerate(train_loader):\n",
        "        valid = torch.ones(imgs.size(0), 1)\n",
        "        fake = torch.zeros(imgs.size(0), 1)\n",
        "\n",
        "        real_imgs = imgs\n",
        "\n",
        "        # Train Generator\n",
        "        optimizer_G.zero_grad()\n",
        "        z = torch.randn(imgs.size(0), latent_dim)\n",
        "        gen_imgs = generator(z)\n",
        "        g_loss = adversarial_loss(discriminator(gen_imgs), valid)\n",
        "        g_loss.backward()\n",
        "        optimizer_G.step()\n",
        "\n",
        "        # Train Discriminator\n",
        "        optimizer_D.zero_grad()\n",
        "        real_loss = adversarial_loss(discriminator(real_imgs), valid)\n",
        "        fake_loss = adversarial_loss(discriminator(gen_imgs.detach()), fake)\n",
        "        d_loss = (real_loss + fake_loss) / 2\n",
        "        d_loss.backward()\n",
        "        optimizer_D.step()\n",
        "\n",
        "    print(f'Epoch {epoch + 1}/{num_epochs}, D Loss: {d_loss.item()}, G Loss: {g_loss.item()}')"
      ],
      "metadata": {
        "colab": {
          "base_uri": "https://localhost:8080/"
        },
        "id": "qACSEc_MhygB",
        "outputId": "ca418166-5abe-44d2-8e94-6cd86baa5aa4"
      },
      "execution_count": 8,
      "outputs": [
        {
          "output_type": "stream",
          "name": "stdout",
          "text": [
            "Epoch 1/50, D Loss: 0.010824709199368954, G Loss: 5.05318021774292\n",
            "Epoch 2/50, D Loss: 0.049958132207393646, G Loss: 3.0561065673828125\n",
            "Epoch 3/50, D Loss: 0.1729310303926468, G Loss: 1.6777158975601196\n",
            "Epoch 4/50, D Loss: 0.09645968675613403, G Loss: 3.4007623195648193\n",
            "Epoch 5/50, D Loss: 0.15701709687709808, G Loss: 2.6772425174713135\n",
            "Epoch 6/50, D Loss: 0.013037851080298424, G Loss: 4.299259185791016\n",
            "Epoch 7/50, D Loss: 0.03663591295480728, G Loss: 4.901187419891357\n",
            "Epoch 8/50, D Loss: 0.13161906599998474, G Loss: 3.436420440673828\n",
            "Epoch 9/50, D Loss: 0.10587286204099655, G Loss: 2.948991060256958\n",
            "Epoch 10/50, D Loss: 0.1774098128080368, G Loss: 3.549661874771118\n",
            "Epoch 11/50, D Loss: 0.11742401868104935, G Loss: 3.6745359897613525\n",
            "Epoch 12/50, D Loss: 0.15955349802970886, G Loss: 5.08649206161499\n",
            "Epoch 13/50, D Loss: 0.11078845709562302, G Loss: 5.082656383514404\n",
            "Epoch 14/50, D Loss: 0.08673882484436035, G Loss: 3.442504405975342\n",
            "Epoch 15/50, D Loss: 0.15209104120731354, G Loss: 7.209484100341797\n",
            "Epoch 16/50, D Loss: 0.1782965362071991, G Loss: 3.0733699798583984\n",
            "Epoch 17/50, D Loss: 0.19606387615203857, G Loss: 2.76617169380188\n",
            "Epoch 18/50, D Loss: 0.23054388165473938, G Loss: 3.231820821762085\n",
            "Epoch 19/50, D Loss: 0.06322145462036133, G Loss: 3.3732776641845703\n",
            "Epoch 20/50, D Loss: 0.0879775658249855, G Loss: 3.9389920234680176\n",
            "Epoch 21/50, D Loss: 0.23786529898643494, G Loss: 4.527500152587891\n",
            "Epoch 22/50, D Loss: 0.09781615436077118, G Loss: 4.5155134201049805\n",
            "Epoch 23/50, D Loss: 0.1774459183216095, G Loss: 3.5843849182128906\n",
            "Epoch 24/50, D Loss: 0.1891072392463684, G Loss: 2.7011899948120117\n",
            "Epoch 25/50, D Loss: 0.13274507224559784, G Loss: 3.1413817405700684\n",
            "Epoch 26/50, D Loss: 0.14565688371658325, G Loss: 3.1001484394073486\n",
            "Epoch 27/50, D Loss: 0.14792746305465698, G Loss: 4.2554707527160645\n",
            "Epoch 28/50, D Loss: 0.22206740081310272, G Loss: 5.36586856842041\n",
            "Epoch 29/50, D Loss: 0.2024390995502472, G Loss: 3.2894175052642822\n",
            "Epoch 30/50, D Loss: 0.14289294183254242, G Loss: 3.0659966468811035\n",
            "Epoch 31/50, D Loss: 0.1873840093612671, G Loss: 2.4119873046875\n",
            "Epoch 32/50, D Loss: 0.2181149572134018, G Loss: 2.285816192626953\n",
            "Epoch 33/50, D Loss: 0.2751442790031433, G Loss: 2.838683605194092\n",
            "Epoch 34/50, D Loss: 0.16410870850086212, G Loss: 3.2279250621795654\n",
            "Epoch 35/50, D Loss: 0.07490359246730804, G Loss: 4.7827067375183105\n",
            "Epoch 36/50, D Loss: 0.2082100808620453, G Loss: 3.533005475997925\n",
            "Epoch 37/50, D Loss: 0.24783949553966522, G Loss: 1.9067600965499878\n",
            "Epoch 38/50, D Loss: 0.3191550672054291, G Loss: 2.273984432220459\n",
            "Epoch 39/50, D Loss: 0.3303181529045105, G Loss: 2.2903635501861572\n",
            "Epoch 40/50, D Loss: 0.3393002450466156, G Loss: 1.9578789472579956\n",
            "Epoch 41/50, D Loss: 0.2597305178642273, G Loss: 2.603508710861206\n",
            "Epoch 42/50, D Loss: 0.19524875283241272, G Loss: 2.484848737716675\n",
            "Epoch 43/50, D Loss: 0.15951842069625854, G Loss: 3.4972355365753174\n",
            "Epoch 44/50, D Loss: 0.312594473361969, G Loss: 2.5309090614318848\n",
            "Epoch 45/50, D Loss: 0.3603290319442749, G Loss: 2.1626737117767334\n",
            "Epoch 46/50, D Loss: 0.4859349727630615, G Loss: 1.3643885850906372\n",
            "Epoch 47/50, D Loss: 0.1953071653842926, G Loss: 2.381446361541748\n",
            "Epoch 48/50, D Loss: 0.38268396258354187, G Loss: 2.3956923484802246\n",
            "Epoch 49/50, D Loss: 0.3004862070083618, G Loss: 2.290940999984741\n",
            "Epoch 50/50, D Loss: 0.5192466974258423, G Loss: 1.5887588262557983\n"
          ]
        }
      ]
    },
    {
      "cell_type": "markdown",
      "source": [
        "### Membuat Gambar Baru dari Model"
      ],
      "metadata": {
        "id": "hNxs1h6vh_fx"
      }
    },
    {
      "cell_type": "code",
      "source": [
        "import matplotlib.pyplot as plt\n",
        "# Generate new images\n",
        "def generate_images(generator, num_images, latent_dim):\n",
        "    # Menentukan status generator menjadi evaluation mode\n",
        "    generator.eval()\n",
        "\n",
        "    # Generate random noise\n",
        "    z = torch.randn(num_images, latent_dim)\n",
        "\n",
        "    # Generate images from noise\n",
        "    gen_imgs = generator(z)\n",
        "\n",
        "    # Rescale images menjadi rentang [0, 1]\n",
        "    gen_imgs = 0.5 * gen_imgs + 0.5\n",
        "\n",
        "    # Plot the generated images\n",
        "    fig, axs = plt.subplots(1, num_images, figsize=(num_images, 1))\n",
        "    for i in range(num_images):\n",
        "        axs[i].imshow(gen_imgs[i].detach().numpy().squeeze(), cmap='gray')\n",
        "        axs[i].axis('off')\n",
        "    plt.show()\n",
        "\n",
        "# Generate dan menampilkan 10 gambar baru\n",
        "generate_images(generator, 10, latent_dim)"
      ],
      "metadata": {
        "colab": {
          "base_uri": "https://localhost:8080/",
          "height": 102
        },
        "id": "Avv87GOciC9U",
        "outputId": "42b74b1c-745c-4c8e-c5c4-000b3cef2d16"
      },
      "execution_count": 11,
      "outputs": [
        {
          "output_type": "display_data",
          "data": {
            "text/plain": [
              "<Figure size 1000x100 with 10 Axes>"
            ],
            "image/png": "[encoded data removed]"
          },
          "metadata": {}
        }
      ]
    }
  ]
}